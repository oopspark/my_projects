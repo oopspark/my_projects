{
 "cells": [
  {
   "cell_type": "code",
   "execution_count": 1,
   "id": "b58b4029",
   "metadata": {},
   "outputs": [],
   "source": [
    "import pandas as pd\n",
    "\n",
    "df = pd.read_csv(r\"C:\\Users\\parkj\\Documents\\PyProjects\\data\\worldcities.csv\")"
   ]
  },
  {
   "cell_type": "code",
   "execution_count": 5,
   "id": "92273423",
   "metadata": {},
   "outputs": [
    {
     "name": "stdout",
     "output_type": "stream",
     "text": [
      "Database engine created.\n"
     ]
    },
    {
     "data": {
      "text/plain": [
       "59"
      ]
     },
     "execution_count": 5,
     "metadata": {},
     "output_type": "execute_result"
    }
   ],
   "source": [
    "import utils.data as data\n",
    "\n",
    "db = data.PostgreSQLDB()\n",
    "\n",
    "df.columns = [col.strip().lower().replace(\" \", \"_\") for col in df.columns]\n",
    "\n",
    "df.to_sql('cities', db.engine, if_exists='replace', index=False, schema='temp')"
   ]
  },
  {
   "cell_type": "code",
   "execution_count": 2,
   "id": "475a5809",
   "metadata": {},
   "outputs": [],
   "source": [
    "import sys\n",
    "sys.path.append(r\"C:\\Users\\parkj\\Documents\\workspace\\my_projects\\code\")\n",
    "\n",
    "\n",
    "from py.utils import data"
   ]
  },
  {
   "cell_type": "code",
   "execution_count": 1,
   "id": "5aa50e53",
   "metadata": {},
   "outputs": [
    {
     "data": {
      "text/plain": [
       "2"
      ]
     },
     "execution_count": 1,
     "metadata": {},
     "output_type": "execute_result"
    }
   ],
   "source": [
    "1+1"
   ]
  }
 ],
 "metadata": {
  "kernelspec": {
   "display_name": "Python 3",
   "language": "python",
   "name": "python3"
  },
  "language_info": {
   "codemirror_mode": {
    "name": "ipython",
    "version": 3
   },
   "file_extension": ".py",
   "mimetype": "text/x-python",
   "name": "python",
   "nbconvert_exporter": "python",
   "pygments_lexer": "ipython3",
   "version": "3.11.9"
  }
 },
 "nbformat": 4,
 "nbformat_minor": 5
}
