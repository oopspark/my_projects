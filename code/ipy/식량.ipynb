{
 "cells": [
  {
   "cell_type": "markdown",
   "id": "3442c86a",
   "metadata": {},
   "source": [
    "인구\n",
    "51,000,000\n",
    "\n",
    "하루 칼로리\n",
    "2,500\n",
    "\n",
    "농지\n",
    "1,700,000\n",
    "\n",
    "쌀 헥타르당 생산량\n",
    "5,000\n",
    "\n",
    "쌀 생산량당 칼로리\n",
    "3,600\n",
    "\n"
   ]
  },
  {
   "cell_type": "code",
   "execution_count": 10,
   "id": "34c0d21f",
   "metadata": {},
   "outputs": [
    {
     "name": "stdout",
     "output_type": "stream",
     "text": [
      "46537500000000\n",
      "30600000000000\n",
      "1.5208333333333333\n"
     ]
    }
   ],
   "source": [
    "a = 51000000\n",
    "b = 2500\n",
    "c = 5000\n",
    "d = 3600\n",
    "g = 1700000\n",
    "\n",
    "e = a * b *365\n",
    "f = g * c * d\n",
    "\n",
    "print(e)\n",
    "print(f)\n",
    "print(e/f)"
   ]
  }
 ],
 "metadata": {
  "kernelspec": {
   "display_name": "Python 3",
   "language": "python",
   "name": "python3"
  },
  "language_info": {
   "codemirror_mode": {
    "name": "ipython",
    "version": 3
   },
   "file_extension": ".py",
   "mimetype": "text/x-python",
   "name": "python",
   "nbconvert_exporter": "python",
   "pygments_lexer": "ipython3",
   "version": "3.11.9"
  }
 },
 "nbformat": 4,
 "nbformat_minor": 5
}
