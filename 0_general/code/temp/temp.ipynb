{
 "cells": [
  {
   "cell_type": "code",
   "execution_count": 15,
   "id": "b58b4029",
   "metadata": {},
   "outputs": [],
   "source": [
    "\n",
    "import sys\n",
    "sys.path.append(r\"C:\\Users\\parkj\\Documents\\workspace\\my_projects\\code\")\n",
    "\n"
   ]
  },
  {
   "cell_type": "code",
   "execution_count": 16,
   "id": "92273423",
   "metadata": {},
   "outputs": [
    {
     "name": "stdout",
     "output_type": "stream",
     "text": [
      "Database engine created.\n"
     ]
    }
   ],
   "source": [
    "import py.utils.data as data\n",
    "\n",
    "db = data.PostgreSQLDB(database=\"wpp\")\n",
    "\n"
   ]
  },
  {
   "cell_type": "code",
   "execution_count": 17,
   "id": "5aa50e53",
   "metadata": {},
   "outputs": [
    {
     "name": "stdout",
     "output_type": "stream",
     "text": [
      "Query executed successfully.\n"
     ]
    }
   ],
   "source": [
    "\n",
    "df = db.exedf()"
   ]
  },
  {
   "cell_type": "code",
   "execution_count": 18,
   "id": "18af2414",
   "metadata": {},
   "outputs": [
    {
     "name": "stdout",
     "output_type": "stream",
     "text": [
      "      region       subregion                    country  total_population  \\\n",
      "0     Africa  Eastern Africa                    Burundi        13689447.0   \n",
      "1     Africa  Eastern Africa                    Comoros          850383.0   \n",
      "2     Africa  Eastern Africa                   Djibouti         1152942.0   \n",
      "3     Africa  Eastern Africa                    Eritrea         3470393.0   \n",
      "4     Africa  Eastern Africa                   Ethiopia       128691689.0   \n",
      "..       ...             ...                        ...               ...   \n",
      "232  Oceania       Polynesia                      Samoa          216663.0   \n",
      "233  Oceania       Polynesia                    Tokelau            2391.0   \n",
      "234  Oceania       Polynesia                      Tonga          104595.0   \n",
      "235  Oceania       Polynesia                     Tuvalu            9808.0   \n",
      "236  Oceania       Polynesia  Wallis and Futuna Islands           11369.0   \n",
      "\n",
      "     weighted_avg_age  weighted_std_age  \n",
      "0           21.276823         17.448138  \n",
      "1           25.158422         19.449891  \n",
      "2           28.019534         19.343788  \n",
      "3           23.937366         18.983886  \n",
      "4           23.140802         18.225727  \n",
      "..                ...               ...  \n",
      "232         26.275155         20.840431  \n",
      "233         30.900878         21.253755  \n",
      "234         27.307309         21.083461  \n",
      "235         28.815967         21.150356  \n",
      "236         37.415164         22.893479  \n",
      "\n",
      "[237 rows x 6 columns]\n"
     ]
    },
    {
     "name": "stderr",
     "output_type": "stream",
     "text": [
      "C:\\Users\\parkj\\AppData\\Local\\Temp\\ipykernel_17192\\2487373733.py:23: DeprecationWarning: DataFrameGroupBy.apply operated on the grouping columns. This behavior is deprecated, and in a future version of pandas the grouping columns will be excluded from the operation. Either pass `include_groups=False` to exclude the groupings or explicitly select the grouping columns after groupby to silence this warning.\n",
      "  result = grouped.apply(\n"
     ]
    }
   ],
   "source": [
    "import pandas as pd\n",
    "import numpy as np\n",
    "\n",
    "# 예: 쿼리 결과를 df 라는 DataFrame에 불러왔다고 가정\n",
    "\n",
    "# 가중평균 함수\n",
    "def weighted_avg(values, weights):\n",
    "    return np.average(values, weights=weights)\n",
    "\n",
    "# 가중분산 함수\n",
    "def weighted_var(values, weights):\n",
    "    average = weighted_avg(values, weights)\n",
    "    variance = np.average((values - average)**2, weights=weights)\n",
    "    return variance\n",
    "\n",
    "# 가중표준편차 함수\n",
    "def weighted_std(values, weights):\n",
    "    return np.sqrt(weighted_var(values, weights))\n",
    "\n",
    "# 그룹별 계산\n",
    "grouped = df.groupby(['region', 'subregion', 'country'])\n",
    "\n",
    "result = grouped.apply(\n",
    "    lambda g: pd.Series({\n",
    "        'total_population': g['population'].sum(),\n",
    "        'weighted_avg_age': weighted_avg(g['age'], g['population']),\n",
    "        'weighted_std_age': weighted_std(g['age'], g['population'])\n",
    "    })\n",
    ").reset_index()\n",
    "\n",
    "print(result)\n"
   ]
  },
  {
   "cell_type": "code",
   "execution_count": 19,
   "id": "5fd1229f",
   "metadata": {},
   "outputs": [
    {
     "name": "stdout",
     "output_type": "stream",
     "text": [
      "   region     subregion country  total_population  weighted_avg_age  \\\n",
      "68   Asia  Eastern Asia   Japan       124370948.0         48.007691   \n",
      "\n",
      "    weighted_std_age  \n",
      "68         24.427485  \n"
     ]
    }
   ],
   "source": [
    "df = result\n",
    "\n",
    "print(result[result['country'] == 'Japan'])"
   ]
  }
 ],
 "metadata": {
  "kernelspec": {
   "display_name": "Python 3",
   "language": "python",
   "name": "python3"
  },
  "language_info": {
   "codemirror_mode": {
    "name": "ipython",
    "version": 3
   },
   "file_extension": ".py",
   "mimetype": "text/x-python",
   "name": "python",
   "nbconvert_exporter": "python",
   "pygments_lexer": "ipython3",
   "version": "3.11.9"
  }
 },
 "nbformat": 4,
 "nbformat_minor": 5
}
