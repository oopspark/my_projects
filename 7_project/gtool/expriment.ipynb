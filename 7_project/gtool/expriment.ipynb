{
 "cells": [
  {
   "cell_type": "code",
   "execution_count": null,
   "id": "0160ae75",
   "metadata": {},
   "outputs": [],
   "source": [
    "import yaml\n",
    "\n",
    "with open(\"plot_sample.yml\", encoding=\"utf-8\") as f:\n",
    "    sample = yaml.safe_load(f)\n",
    "\n",
    "\n",
    "data_dict = sample['graph']\n",
    "print(data_dict)\n"
   ]
  },
  {
   "cell_type": "code",
   "execution_count": null,
   "id": "40732804",
   "metadata": {},
   "outputs": [],
   "source": [
    "class grender:\n",
    "    def __init__(self):\n",
    "        with open(\"plot_sample.yml\", encoding=\"utf-8\") as f:\n",
    "            self.sample = yaml.safe_load(f)\n",
    "        self.data_dict = self.sample[\"graph\"]\n",
    "        print(\"[grender] 데이터 로드 완료:\", self.data_dict)\n",
    "\n",
    "a = grender()\n",
    "a"
   ]
  },
  {
   "cell_type": "code",
   "execution_count": null,
   "id": "402beec9",
   "metadata": {},
   "outputs": [],
   "source": [
    "import matplotlib.pyplot as plt\n",
    "\n",
    "class bar(grender):\n",
    "    def __init__(self):\n",
    "        super().__init__()\n",
    "        self.q = {}\n",
    "\n",
    "        for i in self.data_dict:\n",
    "            if i['name'] == 'bar':\n",
    "                self.q = i['data']\n",
    "\n",
    "        self.render()\n",
    "\n",
    "    def render(self):\n",
    "        x = self.q['subjects']\n",
    "        y = self.q['scores']\n",
    "        plt.bar(x, y)\n",
    "        plt.title(\"Bar Test\")\n",
    "        plt.show()\n",
    "\n",
    "b = bar()\n"
   ]
  },
  {
   "cell_type": "code",
   "execution_count": null,
   "id": "1e3adce2",
   "metadata": {},
   "outputs": [],
   "source": []
  },
  {
   "cell_type": "code",
   "execution_count": null,
   "id": "5d153879",
   "metadata": {},
   "outputs": [
    {
     "name": "stdout",
     "output_type": "stream",
     "text": [
      "[\"import numpy as np\\nsubjects = ['Korean', 'Math', 'English', 'Science', 'History', 'PE', 'Music']\\nscores = np.random.randint(60, 100, size=len(subjects))\\n\"]\n"
     ]
    },
    {
     "ename": "TypeError",
     "evalue": "'set' object is not subscriptable",
     "output_type": "error",
     "traceback": [
      "\u001b[31m---------------------------------------------------------------------------\u001b[39m",
      "\u001b[31mTypeError\u001b[39m                                 Traceback (most recent call last)",
      "\u001b[36mCell\u001b[39m\u001b[36m \u001b[39m\u001b[32mIn[23]\u001b[39m\u001b[32m, line 18\u001b[39m\n\u001b[32m     15\u001b[39m             \u001b[38;5;28mself\u001b[39m.v = {k \u001b[38;5;28;01mfor\u001b[39;00m k \u001b[38;5;129;01min\u001b[39;00m local_env}\n\u001b[32m     16\u001b[39m             \u001b[38;5;28mprint\u001b[39m(\u001b[33m\"\u001b[39m\u001b[33m[grender] 코드 실행 결과:\u001b[39m\u001b[33m\"\u001b[39m, \u001b[38;5;28mself\u001b[39m.v[\u001b[33m'\u001b[39m\u001b[33mscores\u001b[39m\u001b[33m'\u001b[39m])\n\u001b[32m---> \u001b[39m\u001b[32m18\u001b[39m at = \u001b[43mgrender\u001b[49m\u001b[43m(\u001b[49m\u001b[43m)\u001b[49m\n",
      "\u001b[36mCell\u001b[39m\u001b[36m \u001b[39m\u001b[32mIn[23]\u001b[39m\u001b[32m, line 16\u001b[39m, in \u001b[36mgrender.__init__\u001b[39m\u001b[34m(self)\u001b[39m\n\u001b[32m     14\u001b[39m exec(code, {}, local_env)\n\u001b[32m     15\u001b[39m \u001b[38;5;28mself\u001b[39m.v = {k \u001b[38;5;28;01mfor\u001b[39;00m k \u001b[38;5;129;01min\u001b[39;00m local_env}\n\u001b[32m---> \u001b[39m\u001b[32m16\u001b[39m \u001b[38;5;28mprint\u001b[39m(\u001b[33m\"\u001b[39m\u001b[33m[grender] 코드 실행 결과:\u001b[39m\u001b[33m\"\u001b[39m, \u001b[38;5;28;43mself\u001b[39;49m\u001b[43m.\u001b[49m\u001b[43mv\u001b[49m\u001b[43m[\u001b[49m\u001b[33;43m'\u001b[39;49m\u001b[33;43mscores\u001b[39;49m\u001b[33;43m'\u001b[39;49m\u001b[43m]\u001b[49m)\n",
      "\u001b[31mTypeError\u001b[39m: 'set' object is not subscriptable"
     ]
    }
   ],
   "source": [
    "class grender:\n",
    "    def __init__(self):\n",
    "        with open(\"plot_sample.yml\", encoding=\"utf-8\") as f:\n",
    "            self.sample = yaml.safe_load(f)\n",
    "        self.data_dict = self.sample['graph']\n",
    "\n",
    "        for i in self.data_dict:\n",
    "            if i['name'] == 'bar':\n",
    "                self.q = str(i['python_example'])\n",
    "                print(self.q)\n",
    "        code = self.q\n",
    "        if code:\n",
    "            local_env = {}\n",
    "            exec(code, {}, local_env)\n",
    "            self.v = {k for k in local_env}\n",
    "            print(\"[grender] 코드 실행 결과:\", self.v[0])\n",
    "\n",
    "at = grender()\n"
   ]
  },
  {
   "cell_type": "code",
   "execution_count": null,
   "id": "d50a3d71",
   "metadata": {},
   "outputs": [],
   "source": [
    "class grender:\n",
    "    def __init__(self, example=\"pre\"):\n",
    "        with open(\"plot_sample.yml\", encoding=\"utf-8\") as f:\n",
    "            self.sample = yaml.safe_load(f)\n",
    "\n",
    "        if example == \"auto\":\n",
    "            self._sample_create()\n",
    "        else:\n",
    "            self.data_dict = self.sample.get(\"데이터\", {})"
   ]
  },
  {
   "cell_type": "code",
   "execution_count": 1,
   "id": "39ccb2b7",
   "metadata": {},
   "outputs": [
    {
     "data": {
      "image/png": "[encoded data removed]",
      "text/plain": [
       "<Figure size 1000x600 with 1 Axes>"
      ]
     },
     "metadata": {},
     "output_type": "display_data"
    }
   ],
   "source": [
    "import plot_basic as pb\n",
    "\n",
    "gr = pb.BasePlotStyle()\n",
    "\n",
    "gr.show()"
   ]
  }
 ],
 "metadata": {
  "kernelspec": {
   "display_name": "Python 3",
   "language": "python",
   "name": "python3"
  },
  "language_info": {
   "codemirror_mode": {
    "name": "ipython",
    "version": 3
   },
   "file_extension": ".py",
   "mimetype": "text/x-python",
   "name": "python",
   "nbconvert_exporter": "python",
   "pygments_lexer": "ipython3",
   "version": "3.13.5"
  }
 },
 "nbformat": 4,
 "nbformat_minor": 5
}
